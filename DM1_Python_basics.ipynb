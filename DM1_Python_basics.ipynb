{
  "cells": [
    {
      "cell_type": "markdown",
      "metadata": {
        "id": "view-in-github",
        "colab_type": "text"
      },
      "source": [
        "<a href=\"https://colab.research.google.com/github/Linaa1112/IntroNeuroComp2023/blob/main/DM1_Python_basics.ipynb\" target=\"_parent\"><img src=\"https://colab.research.google.com/assets/colab-badge.svg\" alt=\"Open In Colab\"/></a>"
      ]
    },
    {
      "cell_type": "markdown",
      "metadata": {
        "id": "HkHIyKTdPsCw"
      },
      "source": [
        "# Devoir maison 1\n",
        "\n",
        "Dans ce notebook, vous devriez vous familiariser davantage avec Python et les modules `numpy` et `matplotlib.pyplot`. Les exercises seront spécifiées dans des cellules \"Texte\", suivies par des cellules de code dans lesquelles vous pourrez écrire / programmer les solutions respectives. Si nécessaire je vous donne quelques astuces en commentaire (`#`)."
      ]
    },
    {
      "cell_type": "markdown",
      "metadata": {
        "id": "vmmNqzRYPsCy"
      },
      "source": [
        "### 0. Importation des librairies\n",
        "\n",
        "Sur l'exemple du dernier TD, importez des modules nécessaires pour le calcul numérique (`numpy`) et pour la visualisation (`pyplot`)."
      ]
    },
    {
      "cell_type": "code",
      "execution_count": null,
      "metadata": {
        "id": "bb7ed_oIPsCz"
      },
      "outputs": [],
      "source": [
        "import numpy as np\n",
        "import matplotlib.pyplot as plt"
      ]
    },
    {
      "cell_type": "markdown",
      "metadata": {
        "id": "tmSTBzD3PsC0"
      },
      "source": [
        "### 1. Numpy arrays\n",
        "\n",
        "Une fonction très utile est `np.arange` pour créer des arrays remplis de valeurs équidistantes. Vous pouvez regarder la documentation avec `np.arange?` dans une cellule code."
      ]
    },
    {
      "cell_type": "code",
      "execution_count": null,
      "metadata": {
        "id": "oN5sQB1oPsC0"
      },
      "outputs": [],
      "source": [
        "np.arange?"
      ]
    },
    {
      "cell_type": "markdown",
      "metadata": {
        "id": "rvcwoVaePsC0"
      },
      "source": [
        "Utilisez cette fonction pour créer des arrays suivantes :"
      ]
    },
    {
      "cell_type": "code",
      "execution_count": null,
      "metadata": {
        "id": "kyJPwroWPsC1"
      },
      "outputs": [],
      "source": [
        "# a. de 0 à 9 en intervalle de 1 (par defaut les valeurs seront des 'int' (nombres entiers))\n",
        "\n",
        "# b. de 0 à 9.9 en intervalle de 0.1\n",
        "\n",
        "# c. de 2 à 10 en intervalle de 2, faisant en sorte que les valeurs seront des 'float'\n"
      ]
    },
    {
      "cell_type": "markdown",
      "metadata": {
        "id": "qLzMOdLmPsC1"
      },
      "source": [
        "Utilisez cette fonction pour créer un array de valeurs $x$ entre 0 et 100. Créez un array qui contient $e^x$. Vous pouvez utiliser pour cela la fonction `np.exp`."
      ]
    },
    {
      "cell_type": "code",
      "execution_count": null,
      "metadata": {
        "id": "dnka2X9lPsC1"
      },
      "outputs": [],
      "source": []
    },
    {
      "cell_type": "markdown",
      "metadata": {
        "id": "xIuxHdK5PsC1"
      },
      "source": [
        "Plottez $y = e^x$ vs. $x$ en suivant les exemples du dernier TD.  "
      ]
    },
    {
      "cell_type": "code",
      "execution_count": null,
      "metadata": {
        "id": "Y-p5T4TbPsC1"
      },
      "outputs": [],
      "source": []
    },
    {
      "cell_type": "markdown",
      "metadata": {
        "id": "ZCJPJdk_PsC2"
      },
      "source": [
        "Plottez deux autres fonctions mathématiques de votre choix ($x^2$, $\\sqrt{x}$, $\\log x$, ...) de la même manière, et rajoutez une légende au plot pour distinguer les deux courbes. N'oubliez pas de mettre des labels aux deux axes x et y."
      ]
    },
    {
      "cell_type": "code",
      "execution_count": null,
      "metadata": {
        "id": "fngGPSsmPsC2"
      },
      "outputs": [],
      "source": []
    },
    {
      "cell_type": "markdown",
      "metadata": {
        "id": "9d0gVpOBPsC2"
      },
      "source": [
        "### 2. Basic python programming\n",
        "\n",
        "\n",
        "Utilisez une boucle `for` pour imprimer chaque caractère dans un string (séquence de caractères) donné:"
      ]
    },
    {
      "cell_type": "code",
      "execution_count": null,
      "metadata": {
        "id": "5oXniA2APsC2"
      },
      "outputs": [],
      "source": [
        "string_to_use = 'bonjour'\n",
        "\n",
        "# your code"
      ]
    },
    {
      "cell_type": "markdown",
      "metadata": {
        "id": "0MXfzVP9PsC2"
      },
      "source": [
        "Ecrivez une fonction qui prend comme argument un nombre entier $a$ et imprime tous les nombres entiers plus petits que $a$ en commençant par 0, mais seulement si $0<a<10$.\n",
        "\n",
        "Vérifiez votre fonction en l'évaluant pour $a = -10, 5, 100$."
      ]
    },
    {
      "cell_type": "code",
      "execution_count": null,
      "metadata": {
        "id": "Om8WKEH9PsC3"
      },
      "outputs": [],
      "source": []
    },
    {
      "cell_type": "markdown",
      "metadata": {
        "id": "pqJ20-aQPsC3"
      },
      "source": [
        "Ecrivez une autre fonction qui prend deux arguments $a$ et $b$. Cette fonction doit retourner $b$ si $a\\ge0$, et retourner $-b$ si $a<0$:"
      ]
    },
    {
      "cell_type": "code",
      "execution_count": null,
      "metadata": {
        "id": "HSNBY6loPsC3"
      },
      "outputs": [],
      "source": []
    }
  ],
  "metadata": {
    "kernelspec": {
      "display_name": "Python 3 (ipykernel)",
      "language": "python",
      "name": "python3"
    },
    "language_info": {
      "codemirror_mode": {
        "name": "ipython",
        "version": 3
      },
      "file_extension": ".py",
      "mimetype": "text/x-python",
      "name": "python",
      "nbconvert_exporter": "python",
      "pygments_lexer": "ipython3",
      "version": "3.10.8"
    },
    "colab": {
      "provenance": [],
      "include_colab_link": true
    }
  },
  "nbformat": 4,
  "nbformat_minor": 0
}