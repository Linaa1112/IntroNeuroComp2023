{
  "cells": [
    {
      "cell_type": "markdown",
      "metadata": {
        "id": "view-in-github",
        "colab_type": "text"
      },
      "source": [
        "<a href=\"https://colab.research.google.com/github/Linaa1112/IntroNeuroComp2023/blob/main/Copie_de_dm1bio.ipynb\" target=\"_parent\"><img src=\"https://colab.research.google.com/assets/colab-badge.svg\" alt=\"Open In Colab\"/></a>"
      ]
    },
    {
      "cell_type": "markdown",
      "metadata": {
        "id": "HkHIyKTdPsCw"
      },
      "source": [
        "# Devoir maison 1\n",
        "\n",
        "Dans ce notebook, vous devriez vous familiariser davantage avec Python et les modules `numpy` et `matplotlib.pyplot`. Les exercises seront spécifiées dans des cellules \"Texte\", suivies par des cellules de code dans lesquelles vous pourrez écrire / programmer les solutions respectives. Si nécessaire je vous donne quelques astuces en commentaire (`#`)."
      ]
    },
    {
      "cell_type": "markdown",
      "metadata": {
        "id": "vmmNqzRYPsCy"
      },
      "source": [
        "### 0. Importation des librairies\n",
        "\n",
        "Sur l'exemple du dernier TD, importez des modules nécessaires pour le calcul numérique (`numpy`) et pour la visualisation (`pyplot`)."
      ]
    },
    {
      "cell_type": "code",
      "execution_count": null,
      "metadata": {
        "id": "bb7ed_oIPsCz"
      },
      "outputs": [],
      "source": [
        "import numpy as np\n",
        "import matplotlib.pyplot as plt"
      ]
    },
    {
      "cell_type": "markdown",
      "metadata": {
        "id": "tmSTBzD3PsC0"
      },
      "source": [
        "### 1. Numpy arrays\n",
        "\n",
        "Une fonction très utile est `np.arange` pour créer des arrays remplis de valeurs équidistantes. Vous pouvez regarder la documentation avec `np.arange?` dans une cellule code."
      ]
    },
    {
      "cell_type": "code",
      "execution_count": null,
      "metadata": {
        "id": "oN5sQB1oPsC0"
      },
      "outputs": [],
      "source": [
        "a=np.arange(10)\n",
        "b=np.arange(0, 10, 0.1)\n",
        "c=np.arange(2.0, 11.0, 2.0, dtype=float)"
      ]
    },
    {
      "cell_type": "markdown",
      "metadata": {
        "id": "rvcwoVaePsC0"
      },
      "source": [
        "Utilisez cette fonction pour créer des arrays suivantes :"
      ]
    },
    {
      "cell_type": "code",
      "execution_count": null,
      "metadata": {
        "id": "kyJPwroWPsC1"
      },
      "outputs": [],
      "source": [
        "# a. de 0 à 9 en intervalle de 1 (par defaut les valeurs seront des 'int' (nombres entiers))\n",
        "\n",
        "# b. de 0 à 9.9 en intervalle de 0.1\n",
        "\n",
        "# c. de 2 à 10 en intervalle de 2, faisant en sorte que les valeurs seront des 'float'\n"
      ]
    },
    {
      "cell_type": "markdown",
      "metadata": {
        "id": "qLzMOdLmPsC1"
      },
      "source": [
        "Utilisez cette fonction pour créer un array de valeurs $x$ entre 0 et 100. Créez un array qui contient $e^x$. Vous pouvez utiliser pour cela la fonction `np.exp`."
      ]
    },
    {
      "cell_type": "code",
      "execution_count": null,
      "metadata": {
        "id": "dnka2X9lPsC1"
      },
      "outputs": [],
      "source": [
        "x = np.arange(0, 101)\n",
        "ex = np.exp(x)\n"
      ]
    },
    {
      "cell_type": "markdown",
      "metadata": {
        "id": "xIuxHdK5PsC1"
      },
      "source": [
        "Plottez $y = e^x$ vs. $x$ en suivant les exemples du dernier TD.  "
      ]
    },
    {
      "cell_type": "code",
      "execution_count": null,
      "metadata": {
        "colab": {
          "base_uri": "https://localhost:8080/",
          "height": 466
        },
        "id": "Y-p5T4TbPsC1",
        "outputId": "ba11be3b-a12c-4f6f-a12f-ce3f9fcb8166"
      },
      "outputs": [
        {
          "output_type": "execute_result",
          "data": {
            "text/plain": [
              "<matplotlib.legend.Legend at 0x7f159c5d9150>"
            ]
          },
          "metadata": {},
          "execution_count": 16
        },
        {
          "output_type": "display_data",
          "data": {
            "text/plain": [
              "<Figure size 640x480 with 1 Axes>"
            ],
            "image/png": "[encoded data removed]"
          },
          "metadata": {}
        }
      ],
      "source": [
        "import numpy as np\n",
        "import matplotlib.pyplot as plt\n",
        "x = np.arange(0, 101)\n",
        "ex = np.exp(x)\n",
        "\n",
        "fig, ax = plt.subplots()\n",
        "ax.plot(x, y, label='x')\n",
        "ax.plot(x, y, ls='--', label='exponentielle')\n",
        "ax.set_xlabel('x')\n",
        "ax.set_ylabel('ex')\n",
        "ax.legend()"
      ]
    },
    {
      "cell_type": "markdown",
      "metadata": {
        "id": "ZCJPJdk_PsC2"
      },
      "source": [
        "Plottez deux autres fonctions mathématiques de votre choix ($x^2$, $\\sqrt{x}$, $\\log x$, ...) de la même manière, et rajoutez une légende au plot pour distinguer les deux courbes. N'oubliez pas de mettre des labels aux deux axes x et y."
      ]
    },
    {
      "cell_type": "code",
      "execution_count": null,
      "metadata": {
        "colab": {
          "base_uri": "https://localhost:8080/",
          "height": 501
        },
        "id": "fngGPSsmPsC2",
        "outputId": "9c93d60e-3f69-42b8-ca78-03c0af5a46b9"
      },
      "outputs": [
        {
          "output_type": "stream",
          "name": "stderr",
          "text": [
            "<ipython-input-11-436d64d9a474>:4: RuntimeWarning: divide by zero encountered in log\n",
            "  y2 = np.log(x)\n"
          ]
        },
        {
          "output_type": "execute_result",
          "data": {
            "text/plain": [
              "<matplotlib.legend.Legend at 0x7f159c785a50>"
            ]
          },
          "metadata": {},
          "execution_count": 11
        },
        {
          "output_type": "display_data",
          "data": {
            "text/plain": [
              "<Figure size 640x480 with 1 Axes>"
            ],
            "image/png": "[encoded data removed]"
          },
          "metadata": {}
        }
      ],
      "source": [
        "import numpy as np\n",
        "import matplotlib.pyplot as plt\n",
        "y1 = np.square(x)\n",
        "y2 = np.log(x)\n",
        "\n",
        "fig, ax = plt.subplots()\n",
        "x = np.linspace(0, 10, 100)\n",
        "ax.plot(x, y1, label='x²', color='red')\n",
        "ax.plot(x, y2, ls='--', label='log x',color='blue')\n",
        "ax.set_xlabel('x')\n",
        "ax.set_ylabel('log x vs x²')\n",
        "ax.legend()"
      ]
    },
    {
      "cell_type": "markdown",
      "metadata": {
        "id": "9d0gVpOBPsC2"
      },
      "source": [
        "### 2. Basic python programming\n",
        "\n",
        "\n",
        "Utilisez une boucle `for` pour imprimer chaque caractère dans un string (séquence de caractères) donné:"
      ]
    },
    {
      "cell_type": "code",
      "execution_count": null,
      "metadata": {
        "colab": {
          "base_uri": "https://localhost:8080/"
        },
        "id": "5oXniA2APsC2",
        "outputId": "39938e83-03f0-4399-d37c-0c75dd2672ff"
      },
      "outputs": [
        {
          "output_type": "stream",
          "name": "stdout",
          "text": [
            "b\n",
            "o\n",
            "n\n",
            "j\n",
            "o\n",
            "u\n",
            "r\n"
          ]
        }
      ],
      "source": [
        "string_to_use = 'bonjour'\n",
        "\n",
        "for lettre in string_to_use:\n",
        "    print(lettre)"
      ]
    },
    {
      "cell_type": "markdown",
      "metadata": {
        "id": "0MXfzVP9PsC2"
      },
      "source": [
        "Ecrivez une fonction qui prend comme argument un nombre entier $a$ et imprime tous les nombres entiers plus petits que $a$ en commençant par 0, mais seulement si $0<a<10$.\n",
        "\n",
        "Vérifiez votre fonction en l'évaluant pour $a = -10, 5, 100$."
      ]
    },
    {
      "cell_type": "code",
      "execution_count": null,
      "metadata": {
        "colab": {
          "base_uri": "https://localhost:8080/"
        },
        "id": "Om8WKEH9PsC3",
        "outputId": "579bc2da-413e-44b5-a992-135572d20758"
      },
      "outputs": [
        {
          "output_type": "stream",
          "name": "stdout",
          "text": [
            "\n",
            "Pour a = -10:\n",
            "Le nombre doit être compris entre 0 et 10.\n",
            "\n",
            "Pour a = 5:\n",
            "0\n",
            "1\n",
            "2\n",
            "3\n",
            "4\n",
            "\n",
            "Pour a = 100:\n",
            "Le nombre doit être compris entre 0 et 10.\n"
          ]
        }
      ],
      "source": [
        "def f(a):\n",
        "    if 0 < a < 10:\n",
        "        for i in range(a):\n",
        "            print(i)\n",
        "    else:\n",
        "        print(\"Le nombre doit être compris entre 0 et 10.\")\n",
        "\n",
        "# Vérification avec pour  a=−10,5,100\n",
        "test= [-10, 5, 100]\n",
        "\n",
        "for valeur in test:\n",
        "    print(f\"\\nPour a = {valeur}:\")\n",
        "    f(valeur)"
      ]
    },
    {
      "cell_type": "markdown",
      "metadata": {
        "id": "pqJ20-aQPsC3"
      },
      "source": [
        "Ecrivez une autre fonction qui prend deux arguments $a$ et $b$. Cette fonction doit retourner $b$ si $a\\ge0$, et retourner $-b$ si $a<0$:"
      ]
    },
    {
      "cell_type": "code",
      "execution_count": null,
      "metadata": {
        "id": "HSNBY6loPsC3"
      },
      "outputs": [],
      "source": [
        "def f2(a, b):\n",
        "    if a >= 0:\n",
        "        return b\n",
        "    else:\n",
        "        return -b"
      ]
    }
  ],
  "metadata": {
    "kernelspec": {
      "display_name": "Python 3 (ipykernel)",
      "language": "python",
      "name": "python3"
    },
    "language_info": {
      "codemirror_mode": {
        "name": "ipython",
        "version": 3
      },
      "file_extension": ".py",
      "mimetype": "text/x-python",
      "name": "python",
      "nbconvert_exporter": "python",
      "pygments_lexer": "ipython3",
      "version": "3.10.8"
    },
    "colab": {
      "provenance": [],
      "include_colab_link": true
    }
  },
  "nbformat": 4,
  "nbformat_minor": 0
}