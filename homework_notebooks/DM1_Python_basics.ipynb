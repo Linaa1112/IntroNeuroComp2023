{
 "cells": [
  {
   "cell_type": "markdown",
   "metadata": {},
   "source": [
    "# Devoir maison 1\n",
    "\n",
    "Dans ce notebook, vous devriez vous familiariser davantage avec Python et les modules `numpy` et `matplotlib.pyplot`. Les exercises seront spécifiées dans des cellules \"Texte\", suivies par des cellules de code dans lesquelles vous pourrez écrire / programmer les solutions respectives. Si nécessaire je vous donne quelques astuces en commentaire (`#`)."
   ]
  },
  {
   "cell_type": "markdown",
   "metadata": {},
   "source": [
    "### 0. Importation des librairies\n",
    "\n",
    "Sur l'exemple du dernier TD, importez des modules nécessaires pour le calcul numérique (`numpy`) et pour la visualisation (`pyplot`). "
   ]
  },
  {
   "cell_type": "code",
   "execution_count": null,
   "metadata": {},
   "outputs": [],
   "source": []
  },
  {
   "cell_type": "markdown",
   "metadata": {},
   "source": [
    "### 1. Numpy arrays\n",
    "\n",
    "Une fonction très utile est `np.arange` pour créer des arrays remplis de valeurs équidistantes. Vous pouvez regarder la documentation avec `np.arange?` dans une cellule code."
   ]
  },
  {
   "cell_type": "code",
   "execution_count": null,
   "metadata": {},
   "outputs": [],
   "source": [
    "np.arange?"
   ]
  },
  {
   "cell_type": "markdown",
   "metadata": {},
   "source": [
    "Utilisez cette fonction pour créer des arrays suivantes : "
   ]
  },
  {
   "cell_type": "code",
   "execution_count": null,
   "metadata": {},
   "outputs": [],
   "source": [
    "# a. de 0 à 9 en intervalle de 1 (par defaut les valeurs seront des 'int' (nombres entiers))\n",
    "\n",
    "# b. de 0 à 9.9 en intervalle de 0.1\n",
    "\n",
    "# c. de 2 à 10 en intervalle de 2, faisant en sorte que les valeurs seront des 'float'\n"
   ]
  },
  {
   "cell_type": "markdown",
   "metadata": {},
   "source": [
    "Utilisez cette fonction pour créer un array de valeurs $x$ entre 0 et 100. Créez un array qui contient $e^x$. Vous pouvez utiliser pour cela la fonction `np.exp`. "
   ]
  },
  {
   "cell_type": "code",
   "execution_count": null,
   "metadata": {},
   "outputs": [],
   "source": []
  },
  {
   "cell_type": "markdown",
   "metadata": {},
   "source": [
    "Plottez $y = e^x$ vs. $x$ en suivant les exemples du dernier TD.  "
   ]
  },
  {
   "cell_type": "code",
   "execution_count": null,
   "metadata": {},
   "outputs": [],
   "source": []
  },
  {
   "cell_type": "markdown",
   "metadata": {},
   "source": [
    "Plottez deux autres fonctions mathématiques de votre choix ($x^2$, $\\sqrt{x}$, $\\log x$, ...) de la même manière, et rajoutez une légende au plot pour distinguer les deux courbes. N'oubliez pas de mettre des labels aux deux axes x et y."
   ]
  },
  {
   "cell_type": "code",
   "execution_count": null,
   "metadata": {},
   "outputs": [],
   "source": []
  },
  {
   "cell_type": "markdown",
   "metadata": {},
   "source": [
    "### 2. Basic python programming\n",
    "\n",
    "\n",
    "Utilisez une boucle `for` pour imprimer chaque caractère dans un string (séquence de caractères) donné:"
   ]
  },
  {
   "cell_type": "code",
   "execution_count": null,
   "metadata": {},
   "outputs": [],
   "source": [
    "string_to_use = 'bonjour'\n",
    "\n",
    "# your code"
   ]
  },
  {
   "cell_type": "markdown",
   "metadata": {},
   "source": [
    "Ecrivez une fonction qui prend comme argument un nombre entier $a$ et imprime tous les nombres entiers plus petits que $a$ en commençant par 0, mais seulement si $0<a<10$. \n",
    "\n",
    "Vérifiez votre fonction en l'évaluant pour $a = -10, 5, 100$."
   ]
  },
  {
   "cell_type": "code",
   "execution_count": null,
   "metadata": {},
   "outputs": [],
   "source": []
  },
  {
   "cell_type": "markdown",
   "metadata": {},
   "source": [
    "Ecrivez une autre fonction qui prend deux arguments $a$ et $b$. Cette fonction doit retourner $b$ si $a\\ge0$, et retourner $-b$ si $a<0$:"
   ]
  },
  {
   "cell_type": "code",
   "execution_count": null,
   "metadata": {},
   "outputs": [],
   "source": []
  }
 ],
 "metadata": {
  "kernelspec": {
   "display_name": "Python 3 (ipykernel)",
   "language": "python",
   "name": "python3"
  },
  "language_info": {
   "codemirror_mode": {
    "name": "ipython",
    "version": 3
   },
   "file_extension": ".py",
   "mimetype": "text/x-python",
   "name": "python",
   "nbconvert_exporter": "python",
   "pygments_lexer": "ipython3",
   "version": "3.10.8"
  }
 },
 "nbformat": 4,
 "nbformat_minor": 2
}
